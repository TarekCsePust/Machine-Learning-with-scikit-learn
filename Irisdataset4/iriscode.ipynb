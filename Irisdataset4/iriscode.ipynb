{
 "cells": [
  {
   "cell_type": "code",
   "execution_count": 2,
   "metadata": {},
   "outputs": [
    {
     "name": "stdout",
     "output_type": "stream",
     "text": [
      "0.9736842105263158\n"
     ]
    }
   ],
   "source": [
    "from sklearn.datasets import load_iris\n",
    "from sklearn.neighbors import KNeighborsClassifier\n",
    "from sklearn.linear_model import LogisticRegression\n",
    "from sklearn.model_selection import train_test_split\n",
    "from sklearn import metrics \n",
    "import matplotlib.pyplot as plt\n",
    "from sklearn.model_selection import cross_val_score\n",
    "\n",
    "iris = load_iris()\n",
    "x = iris.data\n",
    "y = iris.target\n",
    "x_train,x_test,y_train,y_test = train_test_split(x,y,random_state=4)\n",
    "knn = KNeighborsClassifier(n_neighbors=5)\n",
    "knn.fit(x_train,y_train)\n",
    "y_pred = knn.predict(x_test)\n",
    "print(metrics.accuracy_score(y_test,y_pred))\n",
    "#scores = cross_val_score(knn,x,y,cv=10,scoring='accuracy')"
   ]
  },
  {
   "cell_type": "code",
   "execution_count": 3,
   "metadata": {},
   "outputs": [
    {
     "name": "stdout",
     "output_type": "stream",
     "text": [
      "1.0\n"
     ]
    }
   ],
   "source": [
    "x_train,x_test,y_train,y_test = train_test_split(x,y,random_state=2)\n",
    "knn = KNeighborsClassifier(n_neighbors=5)\n",
    "knn.fit(x_train,y_train)\n",
    "y_pred = knn.predict(x_test)\n",
    "print(metrics.accuracy_score(y_test,y_pred))"
   ]
  },
  {
   "cell_type": "code",
   "execution_count": 5,
   "metadata": {},
   "outputs": [],
   "source": [
    "from sklearn.model_selection import KFold"
   ]
  },
  {
   "cell_type": "code",
   "execution_count": 7,
   "metadata": {},
   "outputs": [
    {
     "name": "stdout",
     "output_type": "stream",
     "text": [
      "[1.         0.93333333 1.         1.         0.86666667 0.93333333\n",
      " 0.93333333 1.         1.         1.        ]\n",
      "0.9666666666666668\n"
     ]
    }
   ],
   "source": [
    "knn = KNeighborsClassifier(n_neighbors=5)\n",
    "scores = cross_val_score(knn,x,y,cv=10,scoring='accuracy')\n",
    "print(scores)\n",
    "print(scores.mean())"
   ]
  },
  {
   "cell_type": "code",
   "execution_count": 8,
   "metadata": {},
   "outputs": [
    {
     "data": {
      "text/plain": [
       "Text(0,0.5,'testing accuracy')"
      ]
     },
     "execution_count": 8,
     "metadata": {},
     "output_type": "execute_result"
    },
    {
     "data": {
      "image/png": "[encoded data removed]",
      "text/plain": [
       "<matplotlib.figure.Figure at 0x1e4a0630c18>"
      ]
     },
     "metadata": {},
     "output_type": "display_data"
    }
   ],
   "source": [
    "k_range = range(1,31)\n",
    "k_scores = []\n",
    "for k in k_range:\n",
    "    knn = KNeighborsClassifier(n_neighbors=k)\n",
    "    scores = cross_val_score(knn,x,y,cv=10,scoring='accuracy')\n",
    "    k_scores.append(scores.mean())\n",
    "plt.plot(k_range,k_scores)\n",
    "plt.xlabel('value of k for knn')\n",
    "plt.ylabel('testing accuracy')\n"
   ]
  },
  {
   "cell_type": "code",
   "execution_count": 9,
   "metadata": {},
   "outputs": [
    {
     "name": "stdout",
     "output_type": "stream",
     "text": [
      "0.9800000000000001\n",
      "0.9533333333333334\n"
     ]
    }
   ],
   "source": [
    "knn = KNeighborsClassifier(n_neighbors=20)\n",
    "print(cross_val_score(knn,x,y,cv=10,scoring='accuracy').mean())\n",
    "logreg = LogisticRegression()\n",
    "print(cross_val_score(logreg,x,y,cv=10,scoring='accuracy').mean())"
   ]
  },
  {
   "cell_type": "code",
   "execution_count": 11,
   "metadata": {},
   "outputs": [
    {
     "name": "stdout",
     "output_type": "stream",
     "text": [
      "     Unnamed: 0     TV  radio  newspaper  sales\n",
      "0             1  230.1   37.8       69.2   22.1\n",
      "1             2   44.5   39.3       45.1   10.4\n",
      "2             3   17.2   45.9       69.3    9.3\n",
      "3             4  151.5   41.3       58.5   18.5\n",
      "4             5  180.8   10.8       58.4   12.9\n",
      "5             6    8.7   48.9       75.0    7.2\n",
      "6             7   57.5   32.8       23.5   11.8\n",
      "7             8  120.2   19.6       11.6   13.2\n",
      "8             9    8.6    2.1        1.0    4.8\n",
      "9            10  199.8    2.6       21.2   10.6\n",
      "10           11   66.1    5.8       24.2    8.6\n",
      "11           12  214.7   24.0        4.0   17.4\n",
      "12           13   23.8   35.1       65.9    9.2\n",
      "13           14   97.5    7.6        7.2    9.7\n",
      "14           15  204.1   32.9       46.0   19.0\n",
      "15           16  195.4   47.7       52.9   22.4\n",
      "16           17   67.8   36.6      114.0   12.5\n",
      "17           18  281.4   39.6       55.8   24.4\n",
      "18           19   69.2   20.5       18.3   11.3\n",
      "19           20  147.3   23.9       19.1   14.6\n",
      "20           21  218.4   27.7       53.4   18.0\n",
      "21           22  237.4    5.1       23.5   12.5\n",
      "22           23   13.2   15.9       49.6    5.6\n",
      "23           24  228.3   16.9       26.2   15.5\n",
      "24           25   62.3   12.6       18.3    9.7\n",
      "25           26  262.9    3.5       19.5   12.0\n",
      "26           27  142.9   29.3       12.6   15.0\n",
      "27           28  240.1   16.7       22.9   15.9\n",
      "28           29  248.8   27.1       22.9   18.9\n",
      "29           30   70.6   16.0       40.8   10.5\n",
      "..          ...    ...    ...        ...    ...\n",
      "170         171   50.0   11.6       18.4    8.4\n",
      "171         172  164.5   20.9       47.4   14.5\n",
      "172         173   19.6   20.1       17.0    7.6\n",
      "173         174  168.4    7.1       12.8   11.7\n",
      "174         175  222.4    3.4       13.1   11.5\n",
      "175         176  276.9   48.9       41.8   27.0\n",
      "176         177  248.4   30.2       20.3   20.2\n",
      "177         178  170.2    7.8       35.2   11.7\n",
      "178         179  276.7    2.3       23.7   11.8\n",
      "179         180  165.6   10.0       17.6   12.6\n",
      "180         181  156.6    2.6        8.3   10.5\n",
      "181         182  218.5    5.4       27.4   12.2\n",
      "182         183   56.2    5.7       29.7    8.7\n",
      "183         184  287.6   43.0       71.8   26.2\n",
      "184         185  253.8   21.3       30.0   17.6\n",
      "185         186  205.0   45.1       19.6   22.6\n",
      "186         187  139.5    2.1       26.6   10.3\n",
      "187         188  191.1   28.7       18.2   17.3\n",
      "188         189  286.0   13.9        3.7   15.9\n",
      "189         190   18.7   12.1       23.4    6.7\n",
      "190         191   39.5   41.1        5.8   10.8\n",
      "191         192   75.5   10.8        6.0    9.9\n",
      "192         193   17.2    4.1       31.6    5.9\n",
      "193         194  166.8   42.0        3.6   19.6\n",
      "194         195  149.7   35.6        6.0   17.3\n",
      "195         196   38.2    3.7       13.8    7.6\n",
      "196         197   94.2    4.9        8.1    9.7\n",
      "197         198  177.0    9.3        6.4   12.8\n",
      "198         199  283.6   42.0       66.2   25.5\n",
      "199         200  232.1    8.6        8.7   13.4\n",
      "\n",
      "[200 rows x 5 columns]\n"
     ]
    }
   ],
   "source": [
    "import pandas as pnd\n",
    "import numpy as np\n",
    "from sklearn.linear_model import LinearRegression\n",
    "data = pnd.read_csv('Advertising.csv')\n",
    "feature_cols = ['TV','radio','newspaper']\n",
    "print(data)"
   ]
  },
  {
   "cell_type": "code",
   "execution_count": 13,
   "metadata": {},
   "outputs": [
    {
     "name": "stdout",
     "output_type": "stream",
     "text": [
      "[-3.56038438 -3.29767522 -2.08943356 -2.82474283 -1.3027754  -1.74163618\n",
      " -8.17338214 -2.11409746 -3.04273109 -2.45281793]\n"
     ]
    },
    {
     "name": "stderr",
     "output_type": "stream",
     "text": [
      "C:\\Users\\HASAN TAREK\\Anaconda3\\lib\\site-packages\\sklearn\\metrics\\scorer.py:100: DeprecationWarning: Scoring method mean_squared_error was renamed to neg_mean_squared_error in version 0.18 and will be removed in 0.20.\n",
      "  sample_weight=sample_weight)\n",
      "C:\\Users\\HASAN TAREK\\Anaconda3\\lib\\site-packages\\sklearn\\metrics\\scorer.py:100: DeprecationWarning: Scoring method mean_squared_error was renamed to neg_mean_squared_error in version 0.18 and will be removed in 0.20.\n",
      "  sample_weight=sample_weight)\n",
      "C:\\Users\\HASAN TAREK\\Anaconda3\\lib\\site-packages\\sklearn\\metrics\\scorer.py:100: DeprecationWarning: Scoring method mean_squared_error was renamed to neg_mean_squared_error in version 0.18 and will be removed in 0.20.\n",
      "  sample_weight=sample_weight)\n",
      "C:\\Users\\HASAN TAREK\\Anaconda3\\lib\\site-packages\\sklearn\\metrics\\scorer.py:100: DeprecationWarning: Scoring method mean_squared_error was renamed to neg_mean_squared_error in version 0.18 and will be removed in 0.20.\n",
      "  sample_weight=sample_weight)\n",
      "C:\\Users\\HASAN TAREK\\Anaconda3\\lib\\site-packages\\sklearn\\metrics\\scorer.py:100: DeprecationWarning: Scoring method mean_squared_error was renamed to neg_mean_squared_error in version 0.18 and will be removed in 0.20.\n",
      "  sample_weight=sample_weight)\n",
      "C:\\Users\\HASAN TAREK\\Anaconda3\\lib\\site-packages\\sklearn\\metrics\\scorer.py:100: DeprecationWarning: Scoring method mean_squared_error was renamed to neg_mean_squared_error in version 0.18 and will be removed in 0.20.\n",
      "  sample_weight=sample_weight)\n",
      "C:\\Users\\HASAN TAREK\\Anaconda3\\lib\\site-packages\\sklearn\\metrics\\scorer.py:100: DeprecationWarning: Scoring method mean_squared_error was renamed to neg_mean_squared_error in version 0.18 and will be removed in 0.20.\n",
      "  sample_weight=sample_weight)\n",
      "C:\\Users\\HASAN TAREK\\Anaconda3\\lib\\site-packages\\sklearn\\metrics\\scorer.py:100: DeprecationWarning: Scoring method mean_squared_error was renamed to neg_mean_squared_error in version 0.18 and will be removed in 0.20.\n",
      "  sample_weight=sample_weight)\n",
      "C:\\Users\\HASAN TAREK\\Anaconda3\\lib\\site-packages\\sklearn\\metrics\\scorer.py:100: DeprecationWarning: Scoring method mean_squared_error was renamed to neg_mean_squared_error in version 0.18 and will be removed in 0.20.\n",
      "  sample_weight=sample_weight)\n",
      "C:\\Users\\HASAN TAREK\\Anaconda3\\lib\\site-packages\\sklearn\\metrics\\scorer.py:100: DeprecationWarning: Scoring method mean_squared_error was renamed to neg_mean_squared_error in version 0.18 and will be removed in 0.20.\n",
      "  sample_weight=sample_weight)\n"
     ]
    }
   ],
   "source": [
    "x = data[feature_cols]\n",
    "y = data.sales\n",
    "ln = LinearRegression()\n",
    "scores = cross_val_score(ln,x,y,cv=10,scoring='mean_squared_error')\n",
    "print(scores)"
   ]
  },
  {
   "cell_type": "code",
   "execution_count": 14,
   "metadata": {},
   "outputs": [
    {
     "name": "stdout",
     "output_type": "stream",
     "text": [
      "[3.56038438 3.29767522 2.08943356 2.82474283 1.3027754  1.74163618\n",
      " 8.17338214 2.11409746 3.04273109 2.45281793]\n"
     ]
    }
   ],
   "source": [
    "mse_scores = -scores\n",
    "print(mse_scores)"
   ]
  },
  {
   "cell_type": "code",
   "execution_count": 15,
   "metadata": {},
   "outputs": [
    {
     "name": "stdout",
     "output_type": "stream",
     "text": [
      "[1.88689808 1.81595022 1.44548731 1.68069713 1.14139187 1.31971064\n",
      " 2.85891276 1.45399362 1.7443426  1.56614748]\n"
     ]
    }
   ],
   "source": [
    "rmse_scores = np.sqrt(mse_scores)\n",
    "print(rmse_scores)"
   ]
  },
  {
   "cell_type": "code",
   "execution_count": 16,
   "metadata": {},
   "outputs": [
    {
     "name": "stdout",
     "output_type": "stream",
     "text": [
      "1.6913531708051797\n"
     ]
    }
   ],
   "source": [
    "print(rmse_scores.mean())"
   ]
  },
  {
   "cell_type": "code",
   "execution_count": 17,
   "metadata": {},
   "outputs": [
    {
     "name": "stdout",
     "output_type": "stream",
     "text": [
      "1.6796748419090766\n"
     ]
    },
    {
     "name": "stderr",
     "output_type": "stream",
     "text": [
      "C:\\Users\\HASAN TAREK\\Anaconda3\\lib\\site-packages\\sklearn\\metrics\\scorer.py:100: DeprecationWarning: Scoring method mean_squared_error was renamed to neg_mean_squared_error in version 0.18 and will be removed in 0.20.\n",
      "  sample_weight=sample_weight)\n",
      "C:\\Users\\HASAN TAREK\\Anaconda3\\lib\\site-packages\\sklearn\\metrics\\scorer.py:100: DeprecationWarning: Scoring method mean_squared_error was renamed to neg_mean_squared_error in version 0.18 and will be removed in 0.20.\n",
      "  sample_weight=sample_weight)\n",
      "C:\\Users\\HASAN TAREK\\Anaconda3\\lib\\site-packages\\sklearn\\metrics\\scorer.py:100: DeprecationWarning: Scoring method mean_squared_error was renamed to neg_mean_squared_error in version 0.18 and will be removed in 0.20.\n",
      "  sample_weight=sample_weight)\n",
      "C:\\Users\\HASAN TAREK\\Anaconda3\\lib\\site-packages\\sklearn\\metrics\\scorer.py:100: DeprecationWarning: Scoring method mean_squared_error was renamed to neg_mean_squared_error in version 0.18 and will be removed in 0.20.\n",
      "  sample_weight=sample_weight)\n",
      "C:\\Users\\HASAN TAREK\\Anaconda3\\lib\\site-packages\\sklearn\\metrics\\scorer.py:100: DeprecationWarning: Scoring method mean_squared_error was renamed to neg_mean_squared_error in version 0.18 and will be removed in 0.20.\n",
      "  sample_weight=sample_weight)\n",
      "C:\\Users\\HASAN TAREK\\Anaconda3\\lib\\site-packages\\sklearn\\metrics\\scorer.py:100: DeprecationWarning: Scoring method mean_squared_error was renamed to neg_mean_squared_error in version 0.18 and will be removed in 0.20.\n",
      "  sample_weight=sample_weight)\n",
      "C:\\Users\\HASAN TAREK\\Anaconda3\\lib\\site-packages\\sklearn\\metrics\\scorer.py:100: DeprecationWarning: Scoring method mean_squared_error was renamed to neg_mean_squared_error in version 0.18 and will be removed in 0.20.\n",
      "  sample_weight=sample_weight)\n",
      "C:\\Users\\HASAN TAREK\\Anaconda3\\lib\\site-packages\\sklearn\\metrics\\scorer.py:100: DeprecationWarning: Scoring method mean_squared_error was renamed to neg_mean_squared_error in version 0.18 and will be removed in 0.20.\n",
      "  sample_weight=sample_weight)\n",
      "C:\\Users\\HASAN TAREK\\Anaconda3\\lib\\site-packages\\sklearn\\metrics\\scorer.py:100: DeprecationWarning: Scoring method mean_squared_error was renamed to neg_mean_squared_error in version 0.18 and will be removed in 0.20.\n",
      "  sample_weight=sample_weight)\n",
      "C:\\Users\\HASAN TAREK\\Anaconda3\\lib\\site-packages\\sklearn\\metrics\\scorer.py:100: DeprecationWarning: Scoring method mean_squared_error was renamed to neg_mean_squared_error in version 0.18 and will be removed in 0.20.\n",
      "  sample_weight=sample_weight)\n"
     ]
    }
   ],
   "source": [
    "feature_cols = ['TV','radio']\n",
    "x = data[feature_cols]\n",
    "print(np.sqrt(-cross_val_score(ln,x,y,cv=10,scoring='mean_squared_error')).mean())\n"
   ]
  },
  {
   "cell_type": "code",
   "execution_count": null,
   "metadata": {},
   "outputs": [],
   "source": []
  }
 ],
 "metadata": {
  "kernelspec": {
   "display_name": "Python 3",
   "language": "python",
   "name": "python3"
  },
  "language_info": {
   "codemirror_mode": {
    "name": "ipython",
    "version": 3
   },
   "file_extension": ".py",
   "mimetype": "text/x-python",
   "name": "python",
   "nbconvert_exporter": "python",
   "pygments_lexer": "ipython3",
   "version": "3.6.4"
  }
 },
 "nbformat": 4,
 "nbformat_minor": 2
}
