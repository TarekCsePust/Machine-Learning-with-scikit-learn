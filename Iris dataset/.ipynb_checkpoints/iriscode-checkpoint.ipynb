{
 "cells": [
  {
   "cell_type": "code",
   "execution_count": 1,
   "metadata": {},
   "outputs": [
    {
     "name": "stdout",
     "output_type": "stream",
     "text": [
      "prediction value: [1.]\n",
      "actual prediction value: 1.0\n",
      "Iris category mapping: \n",
      "{'Iris-setosa': 0, 'Iris-versicolor': 1, 'Iris-virginica': 2}\n",
      "Prediction accurecy: 100.0%\n"
     ]
    }
   ],
   "source": [
    "import numpy\n",
    "from numpy import genfromtxt\n",
    "from sklearn import linear_model\n",
    "\n",
    "file = genfromtxt('Iris.csv',delimiter=',',dtype='str')\n",
    "\n",
    "dic = {}\n",
    "count = 0\n",
    "i=0\n",
    "for val in file:\n",
    "    if i!=0:\n",
    "        if val[5] not in dic:\n",
    "            dic[val[5]] = count\n",
    "            count+=1\n",
    "    i+=1\n",
    "            \n",
    "i=0\n",
    "\n",
    "for val in file:\n",
    "    if i!=0:\n",
    "        val[5] = dic[val[5]]\n",
    "    i+=1\n",
    "\n",
    "\n",
    "dataset = []\n",
    "\n",
    "for obs in range(1,51):\n",
    "    dataset.append(file[obs])\n",
    "    dataset.append(file[obs+50])\n",
    "    dataset.append(file[obs+100])\n",
    "\n",
    "trainingSet = dataset[:130]\n",
    "traininSetX = []\n",
    "traininSetY = []\n",
    "for val in trainingSet:\n",
    "    tempVal = []\n",
    "    tempVal.append(val[1])\n",
    "    tempVal.append(val[2])\n",
    "    tempVal.append(val[3])\n",
    "    tempVal.append(val[4])\n",
    "    tm = [float(i) for i in tempVal]\n",
    "    traininSetX.append(tm)\n",
    "    traininSetY.append(float(val[5]))\n",
    "\n",
    "\n",
    "\n",
    "testingSet = dataset[130:]\n",
    "testingSetX = []\n",
    "testingSetY = []\n",
    "\n",
    "for val in testingSet:\n",
    "    tempVal = []\n",
    "    tempVal.append(val[1])\n",
    "    tempVal.append(val[2])\n",
    "    tempVal.append(val[3])\n",
    "    tempVal.append(val[4])\n",
    "    tm = [float(j) for j in tempVal]\n",
    "    testingSetX.append(tm)\n",
    "    testingSetY.append(float(val[5]))\n",
    "\n",
    "lr = linear_model.LogisticRegression()\n",
    "lr.fit(traininSetX,traininSetY)\n",
    "\n",
    "\n",
    "\n",
    "print(\"prediction value: \" + str(lr.predict([testingSetX[9]])))\n",
    "print(\"actual prediction value: \" + str(testingSetY[9]))\n",
    "print(\"Iris category mapping: \")\n",
    "print(dic)\n",
    "print(\"Prediction accurecy: \" + str(lr.score(testingSetX,testingSetY)*100) + \"%\")\n",
    "\n",
    "\n"
   ]
  },
  {
   "cell_type": "code",
   "execution_count": null,
   "metadata": {},
   "outputs": [],
   "source": []
  },
  {
   "cell_type": "code",
   "execution_count": null,
   "metadata": {},
   "outputs": [],
   "source": []
  },
  {
   "cell_type": "code",
   "execution_count": null,
   "metadata": {},
   "outputs": [],
   "source": []
  }
 ],
 "metadata": {
  "kernelspec": {
   "display_name": "Python 3",
   "language": "python",
   "name": "python3"
  },
  "language_info": {
   "codemirror_mode": {
    "name": "ipython",
    "version": 3
   },
   "file_extension": ".py",
   "mimetype": "text/x-python",
   "name": "python",
   "nbconvert_exporter": "python",
   "pygments_lexer": "ipython3",
   "version": "3.6.4"
  }
 },
 "nbformat": 4,
 "nbformat_minor": 2
}
